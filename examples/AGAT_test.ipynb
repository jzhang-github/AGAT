{
 "cells": [
  {
   "cell_type": "markdown",
   "id": "b33b8d5c-a5bf-442e-9cd9-6dc29ef8af01",
   "metadata": {},
   "source": [
    "## 1. Install AGAT environment with `Conda`.\n",
    "```\n",
    "conda init\n",
    "conda env create -f agat_linux_gpu_cu124.yml\n",
    "```\n",
    "\n",
    "## 2. Build database\n",
    "#### 2.1. Collect `OUTCAR` paths\n",
    "```\n",
    "find . -name OUTCAR > paths.log\n",
    "sed -i 's/OUTCAR$//g' paths.log\n",
    "sed -i \"s#^.#${PWD}#g\" paths.log\n",
    "```"
   ]
  },
  {
   "cell_type": "code",
   "execution_count": 1,
   "id": "096563bc-e28e-4269-9164-4ea580b96c77",
   "metadata": {},
   "outputs": [
    {
     "name": "stdout",
     "output_type": "stream",
     "text": [
      "AGAT_test.ipynb\n",
      "DFT_data\n",
      "learning_another_example.txt\n",
      "paths.log\n"
     ]
    }
   ],
   "source": [
    "import os\n",
    "os.system('find . -name OUTCAR > paths.log')\n",
    "os.system('sed -i \"s/OUTCAR$//g\" paths.log')\n",
    "os.system('sed -i \"s#^.#${PWD}#g\" paths.log')\n",
    "_ = os.system('ls')"
   ]
  },
  {
   "cell_type": "code",
   "execution_count": 2,
   "id": "c14e48a7-4deb-4109-bdbd-b9d6aa1e2737",
   "metadata": {},
   "outputs": [
    {
     "name": "stdout",
     "output_type": "stream",
     "text": [
      "/public/home/sps-xia/jzhang/test/AGAT_test/DFT_data/Ni12Co19Fe14Pd37Pt14/surface_static/\n",
      "/public/home/sps-xia/jzhang/test/AGAT_test/DFT_data/Ni12Co19Fe14Pd37Pt14/adsorption_static/34/\n",
      "/public/home/sps-xia/jzhang/test/AGAT_test/DFT_data/Ni12Co19Fe14Pd37Pt14/bulk_static/\n",
      "/public/home/sps-xia/jzhang/test/AGAT_test/DFT_data/Ni12Co17Fe18Pd31Pt18/bulk_static/\n",
      "/public/home/sps-xia/jzhang/test/AGAT_test/DFT_data/Ni12Co17Fe18Pd31Pt18/surface_static/\n",
      "/public/home/sps-xia/jzhang/test/AGAT_test/DFT_data/Ni12Co17Fe18Pd31Pt18/adsorption_static/41/\n",
      "/public/home/sps-xia/jzhang/test/AGAT_test/DFT_data/Ni12Co17Fe18Pd30Pt19/adsorption_static/27/\n",
      "/public/home/sps-xia/jzhang/test/AGAT_test/DFT_data/Ni12Co17Fe18Pd30Pt19/bulk_static/\n",
      "/public/home/sps-xia/jzhang/test/AGAT_test/DFT_data/Ni12Co17Fe18Pd30Pt19/surface_static/\n",
      "/public/home/sps-xia/jzhang/test/AGAT_test/DFT_data/Ni12Co17Fe17Pd32Pt18/bulk_static/\n"
     ]
    }
   ],
   "source": [
    "_ = os.system('head paths.log')"
   ]
  },
  {
   "cell_type": "markdown",
   "id": "4e4f9309-2544-4ec7-965e-c86fdc9cba6d",
   "metadata": {},
   "source": [
    "#### 2.2. Build database (DGL binary graphs)"
   ]
  },
  {
   "cell_type": "code",
   "execution_count": 3,
   "id": "76806cbd-ff78-4af3-9e19-dd180e305010",
   "metadata": {},
   "outputs": [
    {
     "name": "stdout",
     "output_type": "stream",
     "text": [
      "Mask similar frames: FalseMask similar frames:  Mask reversed magnetic moments:False  False\n",
      "Mask reversed magnetic moments: Mask similar frames:FalseMask similar frames: \n",
      " FalseFalse  Mask reversed magnetic moments: Mask reversed magnetic moments:False \n",
      "False\n",
      "Mask similar frames: False Mask reversed magnetic moments: False\n",
      "Mask similar frames:Mask similar frames:  FalseFalse  Mask reversed magnetic moments:Mask similar frames:Mask reversed magnetic moments: False \n",
      "False\n",
      "Mask similar frames: False Mask reversed magnetic moments: False\n",
      "Mask similar frames: False Mask reversed magnetic moments: False\n",
      "Mask similar frames: "
     ]
    },
    {
     "name": "stderr",
     "output_type": "stream",
     "text": [
      "Extracting 0 VASP files.:   0%|                                                    | 0/8 [00:00<?, ?it/s]"
     ]
    },
    {
     "name": "stdout",
     "output_type": "stream",
     "text": [
      " False Mask reversed magnetic moments: False\n",
      "False Mask reversed magnetic moments: False\n",
      "Mask similar frames: False Mask reversed magnetic moments:Mask similar frames:  FalseFalse\n",
      " Mask reversed magnetic moments: False\n",
      "Mask similar frames: False Mask reversed magnetic moments: False\n",
      "Mask similar frames: False Mask reversed magnetic moments: False\n",
      "Mask similar frames: False Mask reversed magnetic moments: False\n"
     ]
    },
    {
     "name": "stderr",
     "output_type": "stream",
     "text": [
      "Extracting 0 VASP files.:  12%|█████▌                                      | 1/8 [00:00<00:03,  2.29it/s]"
     ]
    },
    {
     "name": "stdout",
     "output_type": "stream",
     "text": [
      "[<Process name='Process-1' pid=3363131 parent=3363022 started>, <Process name='Process-2' pid=3363132 parent=3363022 started>, <Process name='Process-3' pid=3363135 parent=3363022 started>, <Process name='Process-4' pid=3363148 parent=3363022 started>, <Process name='Process-5' pid=3363165 parent=3363022 started>, <Process name='Process-6' pid=3363194 parent=3363022 started>, <Process name='Process-7' pid=3363203 parent=3363022 started>, <Process name='Process-8' pid=3363216 parent=3363022 started>, <Process name='Process-9' pid=3363219 parent=3363022 started>, <Process name='Process-10' pid=3363224 parent=3363022 started>, <Process name='Process-11' pid=3363241 parent=3363022 started>, <Process name='Process-12' pid=3363333 parent=3363022 started>, <Process name='Process-13' pid=3363334 parent=3363022 started>, <Process name='Process-14' pid=3363335 parent=3363022 started>, <Process name='Process-15' pid=3363338 parent=3363022 started>, <Process name='Process-16' pid=3363349 parent=3363022 started>]\n"
     ]
    },
    {
     "name": "stderr",
     "output_type": "stream",
     "text": [
      "Extracting 2 VASP files.: 100%|████████████████████████████████████████████| 7/7 [00:03<00:00,  1.94it/s]\n",
      "Extracting 4 VASP files.: 100%|████████████████████████████████████████████| 7/7 [00:04<00:00,  1.58it/s]\n",
      "Extracting 3 VASP files.: 100%|████████████████████████████████████████████| 7/7 [00:04<00:00,  1.50it/s]\n",
      "Extracting 5 VASP files.: 100%|████████████████████████████████████████████| 7/7 [00:05<00:00,  1.35it/s]\n",
      "Extracting 1 VASP files.: 100%|████████████████████████████████████████████| 8/8 [00:05<00:00,  1.38it/s]\n",
      "Extracting 0 VASP files.: 100%|████████████████████████████████████████████| 8/8 [00:05<00:00,  1.37it/s]\n"
     ]
    },
    {
     "name": "stdout",
     "output_type": "stream",
     "text": [
      "Waiting for all subprocesses...\n"
     ]
    },
    {
     "name": "stderr",
     "output_type": "stream",
     "text": [
      "Reading 0 batch graphs:   0%|                                                    | 0/173 [00:00<?, ?it/s]"
     ]
    },
    {
     "name": "stdout",
     "output_type": "stream",
     "text": [
      "[<Process name='Process-17' pid=3363511 parent=3363022 started>, <Process name='Process-18' pid=3363512 parent=3363022 started>, <Process name='Process-19' pid=3363514 parent=3363022 started>, <Process name='Process-20' pid=3363517 parent=3363022 started>, <Process name='Process-21' pid=3363520 parent=3363022 started>, <Process name='Process-22' pid=3363522 parent=3363022 started>, <Process name='Process-23' pid=3363523 parent=3363022 started>, <Process name='Process-24' pid=3363525 parent=3363022 started>, <Process name='Process-25' pid=3363526 parent=3363022 started>, <Process name='Process-26' pid=3363527 parent=3363022 started>, <Process name='Process-27' pid=3363529 parent=3363022 started>, <Process name='Process-28' pid=3363531 parent=3363022 started>, <Process name='Process-29' pid=3363534 parent=3363022 started>, <Process name='Process-30' pid=3363536 parent=3363022 started>, <Process name='Process-31' pid=3363537 parent=3363022 started>, <Process name='Process-32' pid=3363538 parent=3363022 started>]\n"
     ]
    },
    {
     "name": "stderr",
     "output_type": "stream",
     "text": [
      "Reading 15 batch graphs: 100%|█████████████████████████████████████████| 159/159 [01:13<00:00,  2.15it/s]\n",
      "Reading 10 batch graphs: 100%|█████████████████████████████████████████| 173/173 [01:18<00:00,  2.20it/s]\n",
      "Reading 1 batch graphs:  94%|███████████████████████████████████████▌  | 163/173 [01:19<00:04,  2.36it/s]\n",
      "Reading 1 batch graphs:  95%|████████████████████████████████████████  | 165/173 [01:20<00:03,  2.33it/s]\n",
      "Reading 8 batch graphs:  98%|█████████████████████████████████████████ | 169/173 [01:20<00:01,  2.17it/s]\n",
      "Reading 13 batch graphs: 100%|█████████████████████████████████████████| 173/173 [01:20<00:00,  2.15it/s]\n",
      "Reading 2 batch graphs: 100%|██████████████████████████████████████████| 173/173 [01:21<00:00,  2.13it/s]\n",
      "Reading 3 batch graphs: 100%|██████████████████████████████████████████| 173/173 [01:21<00:00,  2.12it/s]\n",
      "Reading 11 batch graphs: 100%|█████████████████████████████████████████| 173/173 [01:21<00:00,  2.12it/s]\n",
      "Reading 14 batch graphs: 100%|█████████████████████████████████████████| 173/173 [01:21<00:00,  2.12it/s]\n",
      "Reading 6 batch graphs: 100%|██████████████████████████████████████████| 173/173 [01:21<00:00,  2.11it/s]\n",
      "\n",
      "Reading 9 batch graphs: 100%|██████████████████████████████████████████| 173/173 [01:21<00:00,  2.11it/s]\n",
      "Reading 4 batch graphs: 100%|██████████████████████████████████████████| 173/173 [01:22<00:00,  2.10it/s]\n",
      "Reading 1 batch graphs: 100%|██████████████████████████████████████████| 173/173 [01:22<00:00,  2.10it/s]\n",
      "Reading 7 batch graphs: 100%|██████████████████████████████████████████| 173/173 [01:22<00:00,  2.10it/s]\n"
     ]
    },
    {
     "name": "stdout",
     "output_type": "stream",
     "text": [
      "All subprocesses done.\n"
     ]
    }
   ],
   "source": [
    "from agat.data import BuildDatabase\n",
    "if __name__ == '__main__':\n",
    "    database = BuildDatabase(mode_of_NN='ase_dist', num_of_cores=16)\n",
    "    database.build()"
   ]
  },
  {
   "cell_type": "markdown",
   "id": "4763e9c7-47b8-4f51-9d70-2d22a2ef5083",
   "metadata": {},
   "source": [
    "## 3. Train AGAT model"
   ]
  },
  {
   "cell_type": "code",
   "execution_count": 4,
   "id": "f73110f5-ba3c-4212-b755-18cdbfb665bb",
   "metadata": {},
   "outputs": [
    {
     "name": "stderr",
     "output_type": "stream",
     "text": [
      "/public/home/sps-xia/jzhang/.conda/envs/agat/lib/python3.11/site-packages/agat/lib/model_lib.py:91: FutureWarning: You are using `torch.load` with `weights_only=False` (the current default value), which uses the default pickle module implicitly. It is possible to construct malicious pickle data which will execute arbitrary code during unpickling (See https://github.com/pytorch/pytorch/blob/main/SECURITY.md#untrusted-models for more details). In a future release, the default value for `weights_only` will be flipped to `True`. This limits the functions that could be executed during unpickling. Arbitrary objects will no longer be allowed to be loaded via this mode unless they are explicitly allowlisted by the user via `torch.serialization.add_safe_globals`. We recommend you start setting `weights_only=True` for any use case where you don't have full control of the loaded file. Please open an issue on GitHub for any issues related to this experimental feature.\n",
      "  checkpoint_dict = torch.load(os.path.join(state_dict_save_dir, 'agat_state_dict.pth'))\n"
     ]
    },
    {
     "data": {
      "text/plain": [
       "tensor(49.1090)"
      ]
     },
     "execution_count": 4,
     "metadata": {},
     "output_type": "execute_result"
    }
   ],
   "source": [
    "from agat.model import Fit\n",
    "f = Fit(epochs=2, device='cpu')\n",
    "f.fit()"
   ]
  },
  {
   "cell_type": "code",
   "execution_count": 5,
   "id": "d3f9fd14-c88f-4483-8b12-7f14fab3e923",
   "metadata": {},
   "outputs": [
    {
     "name": "stdout",
     "output_type": "stream",
     "text": [
      "agat_model\n",
      "AGAT_test.ipynb\n",
      "dataset\n",
      "DFT_data\n",
      "fit.log\n",
      "learning_another_example.txt\n",
      "out_file\n",
      "paths.log\n"
     ]
    }
   ],
   "source": [
    "_ = os.system('ls')"
   ]
  },
  {
   "cell_type": "code",
   "execution_count": 6,
   "id": "103991b1-9004-41cf-b6fd-4717f2f4e7df",
   "metadata": {},
   "outputs": [
    {
     "name": "stdout",
     "output_type": "stream",
     "text": [
      "User info: Specified device for potential model: cpu\n",
      "User info: Loading dataset from dataset/all_graphs.bin\n",
      "User info: Checkpoint not detected\n",
      "========================================================================\n",
      "PotentialModel(\n",
      "  (gat_layers): ModuleList(\n",
      "    (0): Layer(\n",
      "      (layer): Linear(in_features=118, out_features=300, bias=True)\n",
      "      (leaky_relu1): LeakyReLU(negative_slope=0.2)\n",
      "      (leaky_relu2): LeakyReLU(negative_slope=0.2)\n",
      "    )\n",
      "    (1-2): 2 x Layer(\n",
      "      (layer): Linear(in_features=300, out_features=300, bias=True)\n",
      "      (leaky_relu1): LeakyReLU(negative_slope=0.2)\n",
      "      (leaky_relu2): LeakyReLU(negative_slope=0.2)\n",
      "    )\n",
      "  )\n",
      "  (energy_readout_layers): ModuleList(\n",
      "    (0): Linear(in_features=300, out_features=100, bias=True)\n",
      "    (1): LeakyReLU(negative_slope=0.2)\n",
      "    (2): Linear(in_features=100, out_features=50, bias=True)\n",
      "    (3): LeakyReLU(negative_slope=0.2)\n",
      "    (4): Linear(in_features=50, out_features=30, bias=True)\n",
      "    (5): LeakyReLU(negative_slope=0.2)\n",
      "    (6): Linear(in_features=30, out_features=10, bias=True)\n",
      "    (7): Linear(in_features=10, out_features=3, bias=True)\n",
      "    (8): Linear(in_features=3, out_features=1, bias=True)\n",
      "  )\n",
      "  (force_readout_layers): ModuleList(\n",
      "    (0): Linear(in_features=300, out_features=100, bias=True)\n",
      "    (1): LeakyReLU(negative_slope=0.2)\n",
      "    (2): Linear(in_features=100, out_features=50, bias=True)\n",
      "    (3): LeakyReLU(negative_slope=0.2)\n",
      "    (4): Linear(in_features=50, out_features=30, bias=True)\n",
      "    (5): Linear(in_features=30, out_features=10, bias=True)\n",
      "    (6): Linear(in_features=10, out_features=3, bias=True)\n",
      "  )\n",
      "  (stress_readout_layers): ModuleList(\n",
      "    (0): Linear(in_features=300, out_features=100, bias=True)\n",
      "    (1): LeakyReLU(negative_slope=0.2)\n",
      "    (2): Linear(in_features=100, out_features=50, bias=True)\n",
      "    (3): LeakyReLU(negative_slope=0.2)\n",
      "    (4): Linear(in_features=50, out_features=30, bias=True)\n",
      "    (5): Linear(in_features=30, out_features=10, bias=True)\n",
      "    (6): Linear(in_features=10, out_features=6, bias=True)\n",
      "  )\n",
      "  (u2e): Linear(in_features=118, out_features=300, bias=False)\n",
      ")\n",
      "========================================================================\n",
      "Epoch Energy_Loss Force_Loss Stress_Loss Total_Loss Energy_MAE Force_MAE Stress_MAE Energy_R Force_R Stress_R Dur_(s) Validation_info\n",
      "00000 43.17047882 0.21723947 0.00005425 54.08670044 6.56529856 0.33269960 0.00425572 -0.90604746 0.00932195 0.14068355       25.0 Validation_info\n",
      "00001 42.65929413 0.12068646 0.00005406 48.74767303 6.52621269 0.26171291 0.00424102 -0.80138320 0.07963457 0.15275280       50.8 Validation_info\n",
      "User info: Save model with the best score: 48.74767303466797\n",
      "User info: Test model state dict loaded successfully from agat_model.\n",
      "User info, model performance on testset: (No sample weight on the loss)\n",
      "    Epoch      : 1\n",
      "    Energy loss: 42.94850540161133\n",
      "    Force_Loss : 0.1219671219587326\n",
      "    Stress_Loss: 6.211589789018035e-05\n",
      "    Total_Loss : 49.10897445678711\n",
      "    Energy_MAE : 6.548920154571533\n",
      "    Force_MAE  : 0.26322299242019653\n",
      "    Stress_MAE : 0.004483909346163273\n",
      "    Energy_R   : -0.7712616920471191\n",
      "    Force_R    : 0.08031652122735977\n",
      "    Stress_R   : 0.1453443020582199\n",
      "    Dur (s)    : 50.79874062538147\n"
     ]
    }
   ],
   "source": [
    "_ = os.system('head -100 fit.log')"
   ]
  },
  {
   "cell_type": "code",
   "execution_count": 7,
   "id": "60cf28ad-13f0-44f8-8fdb-bf9671c2c454",
   "metadata": {},
   "outputs": [],
   "source": [
    "_ = os.system(\"grep Validation fit.log | awk '{print $1,$6,$7}' > learning.txt \")"
   ]
  },
  {
   "cell_type": "code",
   "execution_count": 8,
   "id": "4d20808b-dcb9-4314-bad6-a24827d5faad",
   "metadata": {},
   "outputs": [
    {
     "name": "stdout",
     "output_type": "stream",
     "text": [
      "Epoch Energy_MAE Force_MAE\n",
      "00000 6.56529856 0.33269960\n",
      "00001 6.52621269 0.26171291\n"
     ]
    }
   ],
   "source": [
    "_ = os.system(\"head learning.txt \")"
   ]
  },
  {
   "cell_type": "markdown",
   "id": "c52136ee-fbcd-4437-98c6-072cdf10a093",
   "metadata": {},
   "source": [
    "## 4. Plot training results\n",
    "For the convenience of display, results of another training is copied here. `learning_another_example.txt`"
   ]
  },
  {
   "cell_type": "code",
   "execution_count": 9,
   "id": "17f85b78-8d5b-44ce-a80c-e15c77927286",
   "metadata": {},
   "outputs": [
    {
     "data": {
      "image/png": "[encoded data removed]",
      "text/plain": [
       "<Figure size 640x480 with 1 Axes>"
      ]
     },
     "metadata": {},
     "output_type": "display_data"
    }
   ],
   "source": [
    "from matplotlib import pyplot as plt\n",
    "import numpy as np\n",
    "with open('learning_another_example.txt', 'r') as f:\n",
    "    Legend_list = f.readline().split()\n",
    "    data = np.loadtxt(f)\n",
    "    plt.title('AGAT training')\n",
    "    plt.xlabel(Legend_list[0])\n",
    "    plt.ylabel('MAE')\n",
    "    plt.plot(data[:,0], data[:,1], label=Legend_list[1])\n",
    "    plt.plot(data[:,0], data[:,2], label=Legend_list[2])\n",
    "    plt.legend()\n",
    "    plt.show()"
   ]
  },
  {
   "cell_type": "markdown",
   "id": "87481a5b-00cc-43f5-8ae2-39fbff0f46fb",
   "metadata": {},
   "source": [
    "## 5. Application (geometry optimization)"
   ]
  },
  {
   "cell_type": "code",
   "execution_count": 10,
   "id": "f2a8607a-12dd-497d-8150-55175b81f60c",
   "metadata": {},
   "outputs": [
    {
     "name": "stderr",
     "output_type": "stream",
     "text": [
      "/public/home/sps-xia/jzhang/.conda/envs/agat/lib/python3.11/site-packages/agat/lib/model_lib.py:44: FutureWarning: You are using `torch.load` with `weights_only=False` (the current default value), which uses the default pickle module implicitly. It is possible to construct malicious pickle data which will execute arbitrary code during unpickling (See https://github.com/pytorch/pytorch/blob/main/SECURITY.md#untrusted-models for more details). In a future release, the default value for `weights_only` will be flipped to `True`. This limits the functions that could be executed during unpickling. Arbitrary objects will no longer be allowed to be loaded via this mode unless they are explicitly allowlisted by the user via `torch.serialization.add_safe_globals`. We recommend you start setting `weights_only=True` for any use case where you don't have full control of the loaded file. Please open an issue on GitHub for any issues related to this experimental feature.\n",
      "  new_model = torch.load(os.path.join(model_save_dir, 'agat.pth'),\n"
     ]
    },
    {
     "name": "stdout",
     "output_type": "stream",
     "text": [
      "      Step     Time          Energy          fmax\n",
      "BFGS:    0 22:05:09      -22.748135        1.117552\n",
      "BFGS:    1 22:05:09      -22.748828        1.228198\n",
      "BFGS:    2 22:05:09      -22.749020        1.872037\n",
      "BFGS:    3 22:05:09      -22.761244        1.882542\n",
      "BFGS:    4 22:05:09      -22.772836        2.031889\n",
      "BFGS:    5 22:05:09      -22.813318        2.517716\n",
      "BFGS:    6 22:05:10      -22.827746        2.735729\n",
      "BFGS:    7 22:05:10      -22.839774        2.845866\n",
      "BFGS:    8 22:05:10      -22.880297        2.652244\n",
      "BFGS:    9 22:05:10      -22.889125        2.645041\n",
      "BFGS:   10 22:05:10      -22.894421        2.908069\n",
      "BFGS:   11 22:05:11      -22.903890        2.738654\n",
      "BFGS:   12 22:05:11      -22.904767        3.360549\n",
      "BFGS:   13 22:05:11      -22.897854        4.001674\n",
      "BFGS:   14 22:05:11      -22.904503        3.389318\n",
      "BFGS:   15 22:05:11      -22.913556        3.292893\n",
      "BFGS:   16 22:05:12      -22.914355        3.379643\n",
      "BFGS:   17 22:05:12      -22.907768        3.889651\n",
      "BFGS:   18 22:05:12      -22.921122        2.993523\n",
      "BFGS:   19 22:05:12      -22.919136        3.508673\n",
      "BFGS:   20 22:05:12      -22.960617        4.617023\n",
      "Return code: False\n"
     ]
    }
   ],
   "source": [
    "from ase.optimize import BFGS\n",
    "from agat.app import AgatCalculator\n",
    "from ase.io import read\n",
    "from ase import Atoms\n",
    "\n",
    "model_save_dir = 'agat_model'\n",
    "graph_build_scheme_dir = 'dataset'\n",
    "\n",
    "atoms = read(os.path.join(os.path.abspath('DFT_data/Ni11Co13Fe16Pd16Pt40/adsorption_static/7'), 'POSCAR'))\n",
    "calculator=AgatCalculator(model_save_dir,\n",
    "                          graph_build_scheme_dir, device='cpu')\n",
    "atoms = Atoms(atoms, calculator=calculator)\n",
    "dyn = BFGS(atoms, trajectory='test.traj')\n",
    "r = dyn.run(fmax=0.05, steps=20)\n",
    "print('Return code:', r)"
   ]
  },
  {
   "cell_type": "code",
   "execution_count": 11,
   "id": "a0e3955e-b9f0-4580-84dc-7180872c3dad",
   "metadata": {},
   "outputs": [
    {
     "data": {
      "text/plain": [
       "<Popen: returncode: None args: ['/public/home/sps-xia/jzhang/.conda/envs/aga...>"
      ]
     },
     "execution_count": 11,
     "metadata": {},
     "output_type": "execute_result"
    }
   ],
   "source": [
    "from ase.visualize import view\n",
    "view(atoms)"
   ]
  },
  {
   "cell_type": "code",
   "execution_count": 12,
   "id": "60be49ba-f0cc-4c57-99c8-707c536fe24e",
   "metadata": {},
   "outputs": [],
   "source": [
    "_ = os.system(\"ag test.traj\")"
   ]
  }
 ],
 "metadata": {
  "kernelspec": {
   "display_name": "Python 3 (ipykernel)",
   "language": "python",
   "name": "python3"
  },
  "language_info": {
   "codemirror_mode": {
    "name": "ipython",
    "version": 3
   },
   "file_extension": ".py",
   "mimetype": "text/x-python",
   "name": "python",
   "nbconvert_exporter": "python",
   "pygments_lexer": "ipython3",
   "version": "3.11.10"
  }
 },
 "nbformat": 4,
 "nbformat_minor": 5
}
